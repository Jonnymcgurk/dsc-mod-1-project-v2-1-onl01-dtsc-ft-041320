{
 "cells": [
  {
   "cell_type": "markdown",
   "metadata": {},
   "source": [
    "# Analysing how months and weeks of release affect movies"
   ]
  },
  {
   "cell_type": "markdown",
   "metadata": {},
   "source": [
    "Findings:Average gross revenue are highest in summer and christmas months \n",
    "\n",
    "Conclusion: try releasing films between may-july and noveember-december for higest ROI"
   ]
  },
  {
   "cell_type": "code",
   "execution_count": 1,
   "metadata": {},
   "outputs": [],
   "source": [
    "import pandas as pd\n",
    "import seaborn as sns\n",
    "import matplotlib.pyplot as plt\n",
    "import numpy as np"
   ]
  },
  {
   "cell_type": "code",
   "execution_count": 3,
   "metadata": {},
   "outputs": [
    {
     "data": {
      "text/html": [
       "<div>\n",
       "<style scoped>\n",
       "    .dataframe tbody tr th:only-of-type {\n",
       "        vertical-align: middle;\n",
       "    }\n",
       "\n",
       "    .dataframe tbody tr th {\n",
       "        vertical-align: top;\n",
       "    }\n",
       "\n",
       "    .dataframe thead th {\n",
       "        text-align: right;\n",
       "    }\n",
       "</style>\n",
       "<table border=\"1\" class=\"dataframe\">\n",
       "  <thead>\n",
       "    <tr style=\"text-align: right;\">\n",
       "      <th></th>\n",
       "      <th>id</th>\n",
       "      <th>release_date</th>\n",
       "      <th>movie</th>\n",
       "      <th>production_budget</th>\n",
       "      <th>domestic_gross</th>\n",
       "      <th>worldwide_gross</th>\n",
       "      <th>year_released</th>\n",
       "      <th>age</th>\n",
       "      <th>decades</th>\n",
       "      <th>day</th>\n",
       "      <th>daynumber</th>\n",
       "      <th>month</th>\n",
       "      <th>markup</th>\n",
       "      <th>profitmargin</th>\n",
       "      <th>netprofit</th>\n",
       "    </tr>\n",
       "  </thead>\n",
       "  <tbody>\n",
       "    <tr>\n",
       "      <td>0</td>\n",
       "      <td>1</td>\n",
       "      <td>2009-12-18</td>\n",
       "      <td>Avatar</td>\n",
       "      <td>425000000</td>\n",
       "      <td>760507625</td>\n",
       "      <td>2776345279</td>\n",
       "      <td>2009</td>\n",
       "      <td>11</td>\n",
       "      <td>1</td>\n",
       "      <td>Friday</td>\n",
       "      <td>4</td>\n",
       "      <td>12</td>\n",
       "      <td>5.532577</td>\n",
       "      <td>0.846921</td>\n",
       "      <td>2351345279</td>\n",
       "    </tr>\n",
       "    <tr>\n",
       "      <td>1</td>\n",
       "      <td>2</td>\n",
       "      <td>2011-05-20</td>\n",
       "      <td>Pirates of the Caribbean: On Stranger Tides</td>\n",
       "      <td>410600000</td>\n",
       "      <td>241063875</td>\n",
       "      <td>1045663875</td>\n",
       "      <td>2011</td>\n",
       "      <td>9</td>\n",
       "      <td>0</td>\n",
       "      <td>Friday</td>\n",
       "      <td>4</td>\n",
       "      <td>5</td>\n",
       "      <td>1.546673</td>\n",
       "      <td>0.607331</td>\n",
       "      <td>635063875</td>\n",
       "    </tr>\n",
       "    <tr>\n",
       "      <td>2</td>\n",
       "      <td>3</td>\n",
       "      <td>2019-06-07</td>\n",
       "      <td>Dark Phoenix</td>\n",
       "      <td>350000000</td>\n",
       "      <td>42762350</td>\n",
       "      <td>149762350</td>\n",
       "      <td>2019</td>\n",
       "      <td>1</td>\n",
       "      <td>0</td>\n",
       "      <td>Friday</td>\n",
       "      <td>4</td>\n",
       "      <td>6</td>\n",
       "      <td>-0.572108</td>\n",
       "      <td>-1.337036</td>\n",
       "      <td>-200237650</td>\n",
       "    </tr>\n",
       "    <tr>\n",
       "      <td>3</td>\n",
       "      <td>4</td>\n",
       "      <td>2015-05-01</td>\n",
       "      <td>Avengers: Age of Ultron</td>\n",
       "      <td>330600000</td>\n",
       "      <td>459005868</td>\n",
       "      <td>1403013963</td>\n",
       "      <td>2015</td>\n",
       "      <td>5</td>\n",
       "      <td>0</td>\n",
       "      <td>Friday</td>\n",
       "      <td>4</td>\n",
       "      <td>5</td>\n",
       "      <td>3.243841</td>\n",
       "      <td>0.764364</td>\n",
       "      <td>1072413963</td>\n",
       "    </tr>\n",
       "    <tr>\n",
       "      <td>4</td>\n",
       "      <td>5</td>\n",
       "      <td>2017-12-15</td>\n",
       "      <td>Star Wars Ep. VIII: The Last Jedi</td>\n",
       "      <td>317000000</td>\n",
       "      <td>620181382</td>\n",
       "      <td>1316721747</td>\n",
       "      <td>2017</td>\n",
       "      <td>3</td>\n",
       "      <td>0</td>\n",
       "      <td>Friday</td>\n",
       "      <td>4</td>\n",
       "      <td>12</td>\n",
       "      <td>3.153696</td>\n",
       "      <td>0.759251</td>\n",
       "      <td>999721747</td>\n",
       "    </tr>\n",
       "  </tbody>\n",
       "</table>\n",
       "</div>"
      ],
      "text/plain": [
       "   id release_date                                        movie  \\\n",
       "0   1   2009-12-18                                       Avatar   \n",
       "1   2   2011-05-20  Pirates of the Caribbean: On Stranger Tides   \n",
       "2   3   2019-06-07                                 Dark Phoenix   \n",
       "3   4   2015-05-01                      Avengers: Age of Ultron   \n",
       "4   5   2017-12-15            Star Wars Ep. VIII: The Last Jedi   \n",
       "\n",
       "   production_budget  domestic_gross  worldwide_gross  year_released  age  \\\n",
       "0          425000000       760507625       2776345279           2009   11   \n",
       "1          410600000       241063875       1045663875           2011    9   \n",
       "2          350000000        42762350        149762350           2019    1   \n",
       "3          330600000       459005868       1403013963           2015    5   \n",
       "4          317000000       620181382       1316721747           2017    3   \n",
       "\n",
       "   decades     day  daynumber  month    markup  profitmargin   netprofit  \n",
       "0        1  Friday          4     12  5.532577      0.846921  2351345279  \n",
       "1        0  Friday          4      5  1.546673      0.607331   635063875  \n",
       "2        0  Friday          4      6 -0.572108     -1.337036  -200237650  \n",
       "3        0  Friday          4      5  3.243841      0.764364  1072413963  \n",
       "4        0  Friday          4     12  3.153696      0.759251   999721747  "
      ]
     },
     "execution_count": 3,
     "metadata": {},
     "output_type": "execute_result"
    }
   ],
   "source": [
    "#importing cleaned data which contains day and month of release, along with other data we will need\n",
    "\n",
    "df = pd.read_csv('cleandata/movierevenue.csv',index_col = 0)\n",
    "df.head()"
   ]
  },
  {
   "cell_type": "code",
   "execution_count": 4,
   "metadata": {},
   "outputs": [
    {
     "name": "stdout",
     "output_type": "stream",
     "text": [
      "<class 'pandas.core.frame.DataFrame'>\n",
      "Int64Index: 5782 entries, 0 to 5781\n",
      "Data columns (total 15 columns):\n",
      "id                   5782 non-null int64\n",
      "release_date         5782 non-null object\n",
      "movie                5782 non-null object\n",
      "production_budget    5782 non-null int64\n",
      "domestic_gross       5782 non-null int64\n",
      "worldwide_gross      5782 non-null int64\n",
      "year_released        5782 non-null int64\n",
      "age                  5782 non-null int64\n",
      "decades              5782 non-null int64\n",
      "day                  5782 non-null object\n",
      "daynumber            5782 non-null int64\n",
      "month                5782 non-null int64\n",
      "markup               5782 non-null float64\n",
      "profitmargin         5782 non-null float64\n",
      "netprofit            5782 non-null int64\n",
      "dtypes: float64(2), int64(10), object(3)\n",
      "memory usage: 722.8+ KB\n"
     ]
    }
   ],
   "source": [
    "df.info()"
   ]
  },
  {
   "cell_type": "code",
   "execution_count": 18,
   "metadata": {},
   "outputs": [
    {
     "data": {
      "text/plain": [
       "day\n",
       "Friday       4539\n",
       "Wednesday     621\n",
       "Tuesday       290\n",
       "Thursday      172\n",
       "Monday         59\n",
       "Saturday       56\n",
       "Sunday         45\n",
       "Name: worldwide_gross, dtype: int64"
      ]
     },
     "execution_count": 18,
     "metadata": {},
     "output_type": "execute_result"
    }
   ],
   "source": [
    "#sorting gross by release day\n",
    "\n",
    "df.groupby('day')['worldwide_gross'].count().sort_values(ascending = False)"
   ]
  },
  {
   "cell_type": "markdown",
   "metadata": {},
   "source": [
    "lets visualise that "
   ]
  },
  {
   "cell_type": "code",
   "execution_count": 5,
   "metadata": {},
   "outputs": [
    {
     "data": {
      "text/plain": [
       "<matplotlib.axes._subplots.AxesSubplot at 0x1a2267ac18>"
      ]
     },
     "execution_count": 5,
     "metadata": {},
     "output_type": "execute_result"
    },
    {
     "data": {
      "image/png": "[encoded data removed]",
      "text/plain": [
       "<Figure size 432x288 with 1 Axes>"
      ]
     },
     "metadata": {
      "needs_background": "light"
     },
     "output_type": "display_data"
    }
   ],
   "source": [
    "df['day'].hist()"
   ]
  },
  {
   "cell_type": "code",
   "execution_count": 6,
   "metadata": {},
   "outputs": [
    {
     "data": {
      "text/plain": [
       "mean      9.148746e+07\n",
       "median    2.798445e+07\n",
       "Name: worldwide_gross, dtype: float64"
      ]
     },
     "execution_count": 6,
     "metadata": {},
     "output_type": "execute_result"
    },
    {
     "data": {
      "image/png": "[encoded data removed]",
      "text/plain": [
       "<Figure size 432x288 with 1 Axes>"
      ]
     },
     "metadata": {
      "needs_background": "light"
     },
     "output_type": "display_data"
    }
   ],
   "source": [
    "df['worldwide_gross'].hist()\n",
    "df['worldwide_gross'].agg(['mean','median'])"
   ]
  },
  {
   "cell_type": "code",
   "execution_count": 7,
   "metadata": {},
   "outputs": [
    {
     "data": {
      "text/plain": [
       "mean      5.989970e+07\n",
       "median    8.550286e+06\n",
       "Name: netprofit, dtype: float64"
      ]
     },
     "execution_count": 7,
     "metadata": {},
     "output_type": "execute_result"
    },
    {
     "data": {
      "image/png": "[encoded data removed]",
      "text/plain": [
       "<Figure size 432x288 with 1 Axes>"
      ]
     },
     "metadata": {
      "needs_background": "light"
     },
     "output_type": "display_data"
    }
   ],
   "source": [
    "df['netprofit'].hist()\n",
    "df['netprofit'].agg(['mean','median'])"
   ]
  },
  {
   "cell_type": "code",
   "execution_count": 8,
   "metadata": {},
   "outputs": [
    {
     "data": {
      "text/plain": [
       "mean      7.050675\n",
       "median    7.000000\n",
       "Name: month, dtype: float64"
      ]
     },
     "execution_count": 8,
     "metadata": {},
     "output_type": "execute_result"
    },
    {
     "data": {
      "image/png": "[encoded data removed]",
      "text/plain": [
       "<Figure size 432x288 with 1 Axes>"
      ]
     },
     "metadata": {
      "needs_background": "light"
     },
     "output_type": "display_data"
    }
   ],
   "source": [
    "df['month'].hist()\n",
    "df['month'].agg(['mean','median'])"
   ]
  },
  {
   "cell_type": "code",
   "execution_count": 23,
   "metadata": {},
   "outputs": [],
   "source": [
    "# the  data is heavily leaning to friday, is this the reality? "
   ]
  },
  {
   "cell_type": "code",
   "execution_count": 9,
   "metadata": {},
   "outputs": [
    {
     "data": {
      "text/plain": [
       "<matplotlib.axes._subplots.AxesSubplot at 0x1a21f1d4e0>"
      ]
     },
     "execution_count": 9,
     "metadata": {},
     "output_type": "execute_result"
    },
    {
     "data": {
      "image/png": "[encoded data removed]",
      "text/plain": [
       "<Figure size 432x288 with 1 Axes>"
      ]
     },
     "metadata": {
      "needs_background": "light"
     },
     "output_type": "display_data"
    }
   ],
   "source": [
    "df['day'].value_counts().plot(kind= 'bar')"
   ]
  },
  {
   "cell_type": "code",
   "execution_count": 10,
   "metadata": {},
   "outputs": [
    {
     "data": {
      "text/plain": [
       "Text(0, 0.5, ' Gross Revenue (Billions USD)')"
      ]
     },
     "execution_count": 10,
     "metadata": {},
     "output_type": "execute_result"
    },
    {
     "data": {
      "image/png": "[encoded data removed]",
      "text/plain": [
       "<Figure size 864x720 with 1 Axes>"
      ]
     },
     "metadata": {
      "needs_background": "light"
     },
     "output_type": "display_data"
    }
   ],
   "source": [
    "#different visulisations\n",
    "\n",
    "fig, axes=plt.subplots(nrows=1, ncols=1, figsize=(12,10))\n",
    "ax = sns.boxplot(x='day',y='worldwide_gross', data=df)\n",
    "ax.set_title(\"Gross Revenue by day of Release\", size = 20, pad = 15);\n",
    "\n",
    "\n",
    "ax.set_xlabel(\"Day of Week in Numbers\", size = 15, labelpad = 10)\n",
    "ax.set_ylabel(\" Gross Revenue (Billions USD)\", size = 15, labelpad =10)"
   ]
  },
  {
   "cell_type": "code",
   "execution_count": 11,
   "metadata": {},
   "outputs": [
    {
     "data": {
      "text/plain": [
       "daynumber\n",
       "0    2.813124e+07\n",
       "1    3.344983e+07\n",
       "2    1.220360e+08\n",
       "3    1.083977e+08\n",
       "4    9.260652e+07\n",
       "5    2.412489e+07\n",
       "6    3.332323e+07\n",
       "Name: worldwide_gross, dtype: float64"
      ]
     },
     "execution_count": 11,
     "metadata": {},
     "output_type": "execute_result"
    }
   ],
   "source": [
    "#mean #still friday\n",
    "\n",
    "df.groupby('daynumber')['worldwide_gross'].mean()"
   ]
  },
  {
   "cell_type": "code",
   "execution_count": 12,
   "metadata": {},
   "outputs": [
    {
     "data": {
      "text/plain": [
       "day\n",
       "Wednesday    41560117.0\n",
       "Friday       31222395.0\n",
       "Thursday     13796144.5\n",
       "Sunday        9370285.0\n",
       "Saturday      3414200.0\n",
       "Monday        1050861.0\n",
       "Tuesday          6089.5\n",
       "Name: worldwide_gross, dtype: float64"
      ]
     },
     "execution_count": 12,
     "metadata": {},
     "output_type": "execute_result"
    }
   ],
   "source": [
    "#median # wednesday is interesting here\n",
    "\n",
    "df.groupby('day')['worldwide_gross'].median().sort_values(ascending = False)"
   ]
  },
  {
   "cell_type": "code",
   "execution_count": 13,
   "metadata": {},
   "outputs": [
    {
     "data": {
      "text/plain": [
       "Text(0, 0.5, ' Gross Revenue (Billions USD)')"
      ]
     },
     "execution_count": 13,
     "metadata": {},
     "output_type": "execute_result"
    },
    {
     "data": {
      "image/png": "[encoded data removed]",
      "text/plain": [
       "<Figure size 720x576 with 1 Axes>"
      ]
     },
     "metadata": {
      "needs_background": "light"
     },
     "output_type": "display_data"
    }
   ],
   "source": [
    "fig, axes=plt.subplots(nrows=1, ncols=1, figsize=(10,8))\n",
    "ax = sns.boxplot(x='daynumber',y='worldwide_gross', data=df)\n",
    "ax.set_title(\"Gross Revenue by day of Release\", size = 20, pad = 15);\n",
    "\n",
    "\n",
    "ax.set_xlabel(\"Day of Week in Numbers\", size = 15, labelpad = 10)\n",
    "ax.set_ylabel(\" Gross Revenue (Billions USD)\", size = 15, labelpad =10)\n"
   ]
  },
  {
   "cell_type": "code",
   "execution_count": null,
   "metadata": {},
   "outputs": [],
   "source": [
    "#when grouped by median we see the data is less skewed towards firday "
   ]
  },
  {
   "cell_type": "code",
   "execution_count": 34,
   "metadata": {},
   "outputs": [
    {
     "data": {
      "text/html": [
       "<div>\n",
       "<style scoped>\n",
       "    .dataframe tbody tr th:only-of-type {\n",
       "        vertical-align: middle;\n",
       "    }\n",
       "\n",
       "    .dataframe tbody tr th {\n",
       "        vertical-align: top;\n",
       "    }\n",
       "\n",
       "    .dataframe thead th {\n",
       "        text-align: right;\n",
       "    }\n",
       "</style>\n",
       "<table border=\"1\" class=\"dataframe\">\n",
       "  <thead>\n",
       "    <tr style=\"text-align: right;\">\n",
       "      <th></th>\n",
       "      <th>day</th>\n",
       "      <th>worldwide_gross</th>\n",
       "    </tr>\n",
       "  </thead>\n",
       "  <tbody>\n",
       "    <tr>\n",
       "      <td>0</td>\n",
       "      <td>Friday</td>\n",
       "      <td>31222395.0</td>\n",
       "    </tr>\n",
       "    <tr>\n",
       "      <td>1</td>\n",
       "      <td>Monday</td>\n",
       "      <td>1050861.0</td>\n",
       "    </tr>\n",
       "    <tr>\n",
       "      <td>2</td>\n",
       "      <td>Saturday</td>\n",
       "      <td>3414200.0</td>\n",
       "    </tr>\n",
       "    <tr>\n",
       "      <td>3</td>\n",
       "      <td>Sunday</td>\n",
       "      <td>9370285.0</td>\n",
       "    </tr>\n",
       "    <tr>\n",
       "      <td>4</td>\n",
       "      <td>Thursday</td>\n",
       "      <td>13796144.5</td>\n",
       "    </tr>\n",
       "    <tr>\n",
       "      <td>5</td>\n",
       "      <td>Tuesday</td>\n",
       "      <td>6089.5</td>\n",
       "    </tr>\n",
       "    <tr>\n",
       "      <td>6</td>\n",
       "      <td>Wednesday</td>\n",
       "      <td>41560117.0</td>\n",
       "    </tr>\n",
       "  </tbody>\n",
       "</table>\n",
       "</div>"
      ],
      "text/plain": [
       "         day  worldwide_gross\n",
       "0     Friday       31222395.0\n",
       "1     Monday        1050861.0\n",
       "2   Saturday        3414200.0\n",
       "3     Sunday        9370285.0\n",
       "4   Thursday       13796144.5\n",
       "5    Tuesday           6089.5\n",
       "6  Wednesday       41560117.0"
      ]
     },
     "execution_count": 34,
     "metadata": {},
     "output_type": "execute_result"
    }
   ],
   "source": [
    "\n",
    "gross_median_day = pd.DataFrame(df.groupby('day')['worldwide_gross'].median())\n",
    "gross_median_day.reset_index(inplace = True)\n",
    "gross_median_day\n"
   ]
  },
  {
   "cell_type": "code",
   "execution_count": 35,
   "metadata": {
    "scrolled": true
   },
   "outputs": [
    {
     "data": {
      "text/plain": [
       "<matplotlib.axes._subplots.AxesSubplot at 0x1a1a3bf8d0>"
      ]
     },
     "execution_count": 35,
     "metadata": {},
     "output_type": "execute_result"
    },
    {
     "data": {
      "image/png": "[encoded data removed]",
      "text/plain": [
       "<Figure size 432x288 with 1 Axes>"
      ]
     },
     "metadata": {
      "needs_background": "light"
     },
     "output_type": "display_data"
    }
   ],
   "source": [
    "sns.barplot(data=gross_median_day, x='day',y='worldwide_gross')"
   ]
  },
  {
   "cell_type": "markdown",
   "metadata": {},
   "source": [
    "grouped by mean"
   ]
  },
  {
   "cell_type": "code",
   "execution_count": 238,
   "metadata": {},
   "outputs": [
    {
     "data": {
      "text/html": [
       "<div>\n",
       "<style scoped>\n",
       "    .dataframe tbody tr th:only-of-type {\n",
       "        vertical-align: middle;\n",
       "    }\n",
       "\n",
       "    .dataframe tbody tr th {\n",
       "        vertical-align: top;\n",
       "    }\n",
       "\n",
       "    .dataframe thead th {\n",
       "        text-align: right;\n",
       "    }\n",
       "</style>\n",
       "<table border=\"1\" class=\"dataframe\">\n",
       "  <thead>\n",
       "    <tr style=\"text-align: right;\">\n",
       "      <th></th>\n",
       "      <th>day</th>\n",
       "      <th>worldwide_gross</th>\n",
       "    </tr>\n",
       "  </thead>\n",
       "  <tbody>\n",
       "    <tr>\n",
       "      <td>0</td>\n",
       "      <td>Friday</td>\n",
       "      <td>9.260652e+07</td>\n",
       "    </tr>\n",
       "    <tr>\n",
       "      <td>1</td>\n",
       "      <td>Monday</td>\n",
       "      <td>2.813124e+07</td>\n",
       "    </tr>\n",
       "    <tr>\n",
       "      <td>2</td>\n",
       "      <td>Saturday</td>\n",
       "      <td>2.412489e+07</td>\n",
       "    </tr>\n",
       "    <tr>\n",
       "      <td>3</td>\n",
       "      <td>Sunday</td>\n",
       "      <td>3.332323e+07</td>\n",
       "    </tr>\n",
       "    <tr>\n",
       "      <td>4</td>\n",
       "      <td>Thursday</td>\n",
       "      <td>1.083977e+08</td>\n",
       "    </tr>\n",
       "    <tr>\n",
       "      <td>5</td>\n",
       "      <td>Tuesday</td>\n",
       "      <td>3.344983e+07</td>\n",
       "    </tr>\n",
       "    <tr>\n",
       "      <td>6</td>\n",
       "      <td>Wednesday</td>\n",
       "      <td>1.220360e+08</td>\n",
       "    </tr>\n",
       "  </tbody>\n",
       "</table>\n",
       "</div>"
      ],
      "text/plain": [
       "         day  worldwide_gross\n",
       "0     Friday     9.260652e+07\n",
       "1     Monday     2.813124e+07\n",
       "2   Saturday     2.412489e+07\n",
       "3     Sunday     3.332323e+07\n",
       "4   Thursday     1.083977e+08\n",
       "5    Tuesday     3.344983e+07\n",
       "6  Wednesday     1.220360e+08"
      ]
     },
     "execution_count": 238,
     "metadata": {},
     "output_type": "execute_result"
    }
   ],
   "source": [
    "gross_mean_day = pd.DataFrame(df.groupby('day')['worldwide_gross'].mean())\n",
    "gross_mean_day.reset_index(inplace = True)\n",
    "gross_mean_day\n"
   ]
  },
  {
   "cell_type": "code",
   "execution_count": 239,
   "metadata": {},
   "outputs": [
    {
     "data": {
      "text/plain": [
       "<matplotlib.axes._subplots.AxesSubplot at 0x1a33e7dc50>"
      ]
     },
     "execution_count": 239,
     "metadata": {},
     "output_type": "execute_result"
    },
    {
     "data": {
      "image/png": "[encoded data removed]",
      "text/plain": [
       "<Figure size 432x288 with 1 Axes>"
      ]
     },
     "metadata": {
      "needs_background": "light"
     },
     "output_type": "display_data"
    }
   ],
   "source": [
    "\n",
    "\n",
    "sns.barplot(data=gross_mean_day, x='day',y='worldwide_gross')"
   ]
  },
  {
   "cell_type": "markdown",
   "metadata": {},
   "source": [
    "Month of release"
   ]
  },
  {
   "cell_type": "code",
   "execution_count": 14,
   "metadata": {},
   "outputs": [
    {
     "data": {
      "text/plain": [
       "<matplotlib.axes._subplots.AxesSubplot at 0x1a224eba58>"
      ]
     },
     "execution_count": 14,
     "metadata": {},
     "output_type": "execute_result"
    },
    {
     "data": {
      "image/png": "[encoded data removed]",
      "text/plain": [
       "<Figure size 432x288 with 1 Axes>"
      ]
     },
     "metadata": {
      "needs_background": "light"
     },
     "output_type": "display_data"
    }
   ],
   "source": [
    "#even disribution \n",
    "\n",
    "df['month'].value_counts().plot(kind= 'barh')"
   ]
  },
  {
   "cell_type": "markdown",
   "metadata": {},
   "source": [
    "different visualisations"
   ]
  },
  {
   "cell_type": "code",
   "execution_count": 15,
   "metadata": {},
   "outputs": [
    {
     "data": {
      "text/plain": [
       "Text(0, 0.5, ' Worldwide Gross ( USD) ')"
      ]
     },
     "execution_count": 15,
     "metadata": {},
     "output_type": "execute_result"
    },
    {
     "data": {
      "image/png": "[encoded data removed]",
      "text/plain": [
       "<Figure size 720x576 with 1 Axes>"
      ]
     },
     "metadata": {},
     "output_type": "display_data"
    }
   ],
   "source": [
    "sns.set(style='ticks')\n",
    "\n",
    "fig, axes=plt.subplots(nrows=1, ncols=1 , figsize=(10,8))\n",
    "ax = sns.boxplot(x='month',y='worldwide_gross', data=df)\n",
    "ax.set_title(\"Worldwide Gross by release month\", pad = 20, size = 20);\n",
    "\n",
    "ax.set_xlabel(' Month ', labelpad = 10, size = 15)\n",
    "ax.set_ylabel(' Worldwide Gross ( USD) ', labelpad = 10, size = 15)"
   ]
  },
  {
   "cell_type": "markdown",
   "metadata": {},
   "source": [
    "Month by sum"
   ]
  },
  {
   "cell_type": "code",
   "execution_count": 16,
   "metadata": {},
   "outputs": [
    {
     "data": {
      "text/html": [
       "<div>\n",
       "<style scoped>\n",
       "    .dataframe tbody tr th:only-of-type {\n",
       "        vertical-align: middle;\n",
       "    }\n",
       "\n",
       "    .dataframe tbody tr th {\n",
       "        vertical-align: top;\n",
       "    }\n",
       "\n",
       "    .dataframe thead th {\n",
       "        text-align: right;\n",
       "    }\n",
       "</style>\n",
       "<table border=\"1\" class=\"dataframe\">\n",
       "  <thead>\n",
       "    <tr style=\"text-align: right;\">\n",
       "      <th></th>\n",
       "      <th>month</th>\n",
       "      <th>worldwide_gross</th>\n",
       "    </tr>\n",
       "  </thead>\n",
       "  <tbody>\n",
       "    <tr>\n",
       "      <td>0</td>\n",
       "      <td>12</td>\n",
       "      <td>75761412153</td>\n",
       "    </tr>\n",
       "    <tr>\n",
       "      <td>1</td>\n",
       "      <td>6</td>\n",
       "      <td>68268531657</td>\n",
       "    </tr>\n",
       "    <tr>\n",
       "      <td>2</td>\n",
       "      <td>5</td>\n",
       "      <td>66043077615</td>\n",
       "    </tr>\n",
       "    <tr>\n",
       "      <td>3</td>\n",
       "      <td>11</td>\n",
       "      <td>65970430672</td>\n",
       "    </tr>\n",
       "    <tr>\n",
       "      <td>4</td>\n",
       "      <td>7</td>\n",
       "      <td>62023990453</td>\n",
       "    </tr>\n",
       "    <tr>\n",
       "      <td>5</td>\n",
       "      <td>3</td>\n",
       "      <td>37897684431</td>\n",
       "    </tr>\n",
       "    <tr>\n",
       "      <td>6</td>\n",
       "      <td>8</td>\n",
       "      <td>30245291880</td>\n",
       "    </tr>\n",
       "    <tr>\n",
       "      <td>7</td>\n",
       "      <td>10</td>\n",
       "      <td>28343193867</td>\n",
       "    </tr>\n",
       "    <tr>\n",
       "      <td>8</td>\n",
       "      <td>2</td>\n",
       "      <td>28045454121</td>\n",
       "    </tr>\n",
       "    <tr>\n",
       "      <td>9</td>\n",
       "      <td>4</td>\n",
       "      <td>27203797390</td>\n",
       "    </tr>\n",
       "    <tr>\n",
       "      <td>10</td>\n",
       "      <td>9</td>\n",
       "      <td>23019987786</td>\n",
       "    </tr>\n",
       "    <tr>\n",
       "      <td>11</td>\n",
       "      <td>1</td>\n",
       "      <td>16157646936</td>\n",
       "    </tr>\n",
       "  </tbody>\n",
       "</table>\n",
       "</div>"
      ],
      "text/plain": [
       "    month  worldwide_gross\n",
       "0      12      75761412153\n",
       "1       6      68268531657\n",
       "2       5      66043077615\n",
       "3      11      65970430672\n",
       "4       7      62023990453\n",
       "5       3      37897684431\n",
       "6       8      30245291880\n",
       "7      10      28343193867\n",
       "8       2      28045454121\n",
       "9       4      27203797390\n",
       "10      9      23019987786\n",
       "11      1      16157646936"
      ]
     },
     "execution_count": 16,
     "metadata": {},
     "output_type": "execute_result"
    }
   ],
   "source": [
    "gross_sum_month = pd.DataFrame(df.groupby('month')['worldwide_gross'].sum().sort_values(ascending = False))\n",
    "gross_sum_month.reset_index(inplace = True)\n",
    "gross_sum_month\n"
   ]
  },
  {
   "cell_type": "code",
   "execution_count": 17,
   "metadata": {},
   "outputs": [
    {
     "data": {
      "text/plain": [
       "<matplotlib.axes._subplots.AxesSubplot at 0x1a21d8fc88>"
      ]
     },
     "execution_count": 17,
     "metadata": {},
     "output_type": "execute_result"
    },
    {
     "data": {
      "image/png": "[encoded data removed]",
      "text/plain": [
       "<Figure size 432x288 with 1 Axes>"
      ]
     },
     "metadata": {},
     "output_type": "display_data"
    }
   ],
   "source": [
    "sns.barplot(data=gross_sum_month, x='month',y='worldwide_gross')"
   ]
  },
  {
   "cell_type": "markdown",
   "metadata": {},
   "source": [
    "month by mean"
   ]
  },
  {
   "cell_type": "code",
   "execution_count": 20,
   "metadata": {},
   "outputs": [
    {
     "data": {
      "text/html": [
       "<div>\n",
       "<style scoped>\n",
       "    .dataframe tbody tr th:only-of-type {\n",
       "        vertical-align: middle;\n",
       "    }\n",
       "\n",
       "    .dataframe tbody tr th {\n",
       "        vertical-align: top;\n",
       "    }\n",
       "\n",
       "    .dataframe thead th {\n",
       "        text-align: right;\n",
       "    }\n",
       "</style>\n",
       "<table border=\"1\" class=\"dataframe\">\n",
       "  <thead>\n",
       "    <tr style=\"text-align: right;\">\n",
       "      <th></th>\n",
       "      <th>month</th>\n",
       "      <th>worldwide_gross</th>\n",
       "    </tr>\n",
       "  </thead>\n",
       "  <tbody>\n",
       "    <tr>\n",
       "      <td>0</td>\n",
       "      <td>5</td>\n",
       "      <td>1.622680e+08</td>\n",
       "    </tr>\n",
       "    <tr>\n",
       "      <td>1</td>\n",
       "      <td>6</td>\n",
       "      <td>1.425230e+08</td>\n",
       "    </tr>\n",
       "    <tr>\n",
       "      <td>2</td>\n",
       "      <td>7</td>\n",
       "      <td>1.409636e+08</td>\n",
       "    </tr>\n",
       "    <tr>\n",
       "      <td>3</td>\n",
       "      <td>11</td>\n",
       "      <td>1.357416e+08</td>\n",
       "    </tr>\n",
       "    <tr>\n",
       "      <td>4</td>\n",
       "      <td>12</td>\n",
       "      <td>1.016932e+08</td>\n",
       "    </tr>\n",
       "    <tr>\n",
       "      <td>5</td>\n",
       "      <td>3</td>\n",
       "      <td>8.063337e+07</td>\n",
       "    </tr>\n",
       "    <tr>\n",
       "      <td>6</td>\n",
       "      <td>2</td>\n",
       "      <td>7.154453e+07</td>\n",
       "    </tr>\n",
       "    <tr>\n",
       "      <td>7</td>\n",
       "      <td>8</td>\n",
       "      <td>6.097841e+07</td>\n",
       "    </tr>\n",
       "    <tr>\n",
       "      <td>8</td>\n",
       "      <td>4</td>\n",
       "      <td>5.992026e+07</td>\n",
       "    </tr>\n",
       "    <tr>\n",
       "      <td>9</td>\n",
       "      <td>10</td>\n",
       "      <td>4.946456e+07</td>\n",
       "    </tr>\n",
       "    <tr>\n",
       "      <td>10</td>\n",
       "      <td>9</td>\n",
       "      <td>4.669369e+07</td>\n",
       "    </tr>\n",
       "    <tr>\n",
       "      <td>11</td>\n",
       "      <td>1</td>\n",
       "      <td>4.656382e+07</td>\n",
       "    </tr>\n",
       "  </tbody>\n",
       "</table>\n",
       "</div>"
      ],
      "text/plain": [
       "    month  worldwide_gross\n",
       "0       5     1.622680e+08\n",
       "1       6     1.425230e+08\n",
       "2       7     1.409636e+08\n",
       "3      11     1.357416e+08\n",
       "4      12     1.016932e+08\n",
       "5       3     8.063337e+07\n",
       "6       2     7.154453e+07\n",
       "7       8     6.097841e+07\n",
       "8       4     5.992026e+07\n",
       "9      10     4.946456e+07\n",
       "10      9     4.669369e+07\n",
       "11      1     4.656382e+07"
      ]
     },
     "execution_count": 20,
     "metadata": {},
     "output_type": "execute_result"
    }
   ],
   "source": [
    "\n",
    "gross_mean_month = pd.DataFrame(df.groupby('month')['worldwide_gross'].mean().sort_values(ascending = False))\n",
    "gross_mean_month.reset_index(inplace = True)\n",
    "gross_mean_month\n"
   ]
  },
  {
   "cell_type": "code",
   "execution_count": 21,
   "metadata": {},
   "outputs": [
    {
     "data": {
      "text/plain": [
       "<matplotlib.axes._subplots.AxesSubplot at 0x1a21c647f0>"
      ]
     },
     "execution_count": 21,
     "metadata": {},
     "output_type": "execute_result"
    },
    {
     "data": {
      "image/png": "[encoded data removed]",
      "text/plain": [
       "<Figure size 432x288 with 1 Axes>"
      ]
     },
     "metadata": {},
     "output_type": "display_data"
    }
   ],
   "source": [
    "sns.barplot(data=gross_mean_month, x='month',y='worldwide_gross')"
   ]
  },
  {
   "cell_type": "markdown",
   "metadata": {},
   "source": [
    "month by median"
   ]
  },
  {
   "cell_type": "code",
   "execution_count": 22,
   "metadata": {},
   "outputs": [
    {
     "data": {
      "text/html": [
       "<div>\n",
       "<style scoped>\n",
       "    .dataframe tbody tr th:only-of-type {\n",
       "        vertical-align: middle;\n",
       "    }\n",
       "\n",
       "    .dataframe tbody tr th {\n",
       "        vertical-align: top;\n",
       "    }\n",
       "\n",
       "    .dataframe thead th {\n",
       "        text-align: right;\n",
       "    }\n",
       "</style>\n",
       "<table border=\"1\" class=\"dataframe\">\n",
       "  <thead>\n",
       "    <tr style=\"text-align: right;\">\n",
       "      <th></th>\n",
       "      <th>month</th>\n",
       "      <th>worldwide_gross</th>\n",
       "    </tr>\n",
       "  </thead>\n",
       "  <tbody>\n",
       "    <tr>\n",
       "      <td>0</td>\n",
       "      <td>7</td>\n",
       "      <td>51134699.5</td>\n",
       "    </tr>\n",
       "    <tr>\n",
       "      <td>1</td>\n",
       "      <td>11</td>\n",
       "      <td>50530475.5</td>\n",
       "    </tr>\n",
       "    <tr>\n",
       "      <td>2</td>\n",
       "      <td>6</td>\n",
       "      <td>46844357.0</td>\n",
       "    </tr>\n",
       "    <tr>\n",
       "      <td>3</td>\n",
       "      <td>2</td>\n",
       "      <td>33097834.5</td>\n",
       "    </tr>\n",
       "    <tr>\n",
       "      <td>4</td>\n",
       "      <td>12</td>\n",
       "      <td>31166312.0</td>\n",
       "    </tr>\n",
       "    <tr>\n",
       "      <td>5</td>\n",
       "      <td>5</td>\n",
       "      <td>29934477.0</td>\n",
       "    </tr>\n",
       "    <tr>\n",
       "      <td>6</td>\n",
       "      <td>3</td>\n",
       "      <td>25599836.0</td>\n",
       "    </tr>\n",
       "    <tr>\n",
       "      <td>7</td>\n",
       "      <td>8</td>\n",
       "      <td>24202936.5</td>\n",
       "    </tr>\n",
       "    <tr>\n",
       "      <td>8</td>\n",
       "      <td>1</td>\n",
       "      <td>20169934.0</td>\n",
       "    </tr>\n",
       "    <tr>\n",
       "      <td>9</td>\n",
       "      <td>4</td>\n",
       "      <td>20068010.0</td>\n",
       "    </tr>\n",
       "    <tr>\n",
       "      <td>10</td>\n",
       "      <td>9</td>\n",
       "      <td>18535575.0</td>\n",
       "    </tr>\n",
       "    <tr>\n",
       "      <td>11</td>\n",
       "      <td>10</td>\n",
       "      <td>16628751.0</td>\n",
       "    </tr>\n",
       "  </tbody>\n",
       "</table>\n",
       "</div>"
      ],
      "text/plain": [
       "    month  worldwide_gross\n",
       "0       7       51134699.5\n",
       "1      11       50530475.5\n",
       "2       6       46844357.0\n",
       "3       2       33097834.5\n",
       "4      12       31166312.0\n",
       "5       5       29934477.0\n",
       "6       3       25599836.0\n",
       "7       8       24202936.5\n",
       "8       1       20169934.0\n",
       "9       4       20068010.0\n",
       "10      9       18535575.0\n",
       "11     10       16628751.0"
      ]
     },
     "execution_count": 22,
     "metadata": {},
     "output_type": "execute_result"
    }
   ],
   "source": [
    "gross_median_month = pd.DataFrame(df.groupby('month')['worldwide_gross'].median().sort_values(ascending = False))\n",
    "gross_median_month.reset_index(inplace = True)\n",
    "gross_median_month"
   ]
  },
  {
   "cell_type": "code",
   "execution_count": 23,
   "metadata": {},
   "outputs": [
    {
     "data": {
      "text/plain": [
       "<matplotlib.axes._subplots.AxesSubplot at 0x1a21d11b00>"
      ]
     },
     "execution_count": 23,
     "metadata": {},
     "output_type": "execute_result"
    },
    {
     "data": {
      "image/png": "[encoded data removed]",
      "text/plain": [
       "<Figure size 432x288 with 1 Axes>"
      ]
     },
     "metadata": {},
     "output_type": "display_data"
    }
   ],
   "source": [
    "sns.barplot(data=gross_median_month, x='month',y='worldwide_gross')"
   ]
  },
  {
   "cell_type": "markdown",
   "metadata": {},
   "source": [
    "using the \"last 4 decades\" dataframe from Question 1 "
   ]
  },
  {
   "cell_type": "code",
   "execution_count": 26,
   "metadata": {},
   "outputs": [],
   "source": [
    "%store -r dfyears2010\n",
    "%store -r df4decades\n"
   ]
  },
  {
   "cell_type": "code",
   "execution_count": 25,
   "metadata": {},
   "outputs": [
    {
     "data": {
      "text/html": [
       "<div>\n",
       "<style scoped>\n",
       "    .dataframe tbody tr th:only-of-type {\n",
       "        vertical-align: middle;\n",
       "    }\n",
       "\n",
       "    .dataframe tbody tr th {\n",
       "        vertical-align: top;\n",
       "    }\n",
       "\n",
       "    .dataframe thead th {\n",
       "        text-align: right;\n",
       "    }\n",
       "</style>\n",
       "<table border=\"1\" class=\"dataframe\">\n",
       "  <thead>\n",
       "    <tr style=\"text-align: right;\">\n",
       "      <th></th>\n",
       "      <th>id</th>\n",
       "      <th>release_date</th>\n",
       "      <th>movie</th>\n",
       "      <th>production_budget</th>\n",
       "      <th>domestic_gross</th>\n",
       "      <th>worldwide_gross</th>\n",
       "      <th>year_released</th>\n",
       "      <th>age</th>\n",
       "      <th>decades</th>\n",
       "      <th>day</th>\n",
       "      <th>daynumber</th>\n",
       "      <th>month</th>\n",
       "      <th>markup</th>\n",
       "      <th>profitmargin</th>\n",
       "      <th>netprofit</th>\n",
       "      <th>movie_check</th>\n",
       "    </tr>\n",
       "  </thead>\n",
       "  <tbody>\n",
       "    <tr>\n",
       "      <td>0</td>\n",
       "      <td>1</td>\n",
       "      <td>2009-12-18</td>\n",
       "      <td>Avatar</td>\n",
       "      <td>425000000</td>\n",
       "      <td>760507625</td>\n",
       "      <td>2776345279</td>\n",
       "      <td>2009</td>\n",
       "      <td>11</td>\n",
       "      <td>2000s</td>\n",
       "      <td>Friday</td>\n",
       "      <td>4</td>\n",
       "      <td>12</td>\n",
       "      <td>5.532577</td>\n",
       "      <td>0.846921</td>\n",
       "      <td>2351345279</td>\n",
       "      <td>Avatar 2009-12-18</td>\n",
       "    </tr>\n",
       "    <tr>\n",
       "      <td>1</td>\n",
       "      <td>2</td>\n",
       "      <td>2011-05-20</td>\n",
       "      <td>Pirates of the Caribbean: On Stranger Tides</td>\n",
       "      <td>410600000</td>\n",
       "      <td>241063875</td>\n",
       "      <td>1045663875</td>\n",
       "      <td>2011</td>\n",
       "      <td>9</td>\n",
       "      <td>2010s</td>\n",
       "      <td>Friday</td>\n",
       "      <td>4</td>\n",
       "      <td>5</td>\n",
       "      <td>1.546673</td>\n",
       "      <td>0.607331</td>\n",
       "      <td>635063875</td>\n",
       "      <td>Pirates of the Caribbean: On Stranger Tides 20...</td>\n",
       "    </tr>\n",
       "    <tr>\n",
       "      <td>2</td>\n",
       "      <td>3</td>\n",
       "      <td>2019-06-07</td>\n",
       "      <td>Dark Phoenix</td>\n",
       "      <td>350000000</td>\n",
       "      <td>42762350</td>\n",
       "      <td>149762350</td>\n",
       "      <td>2019</td>\n",
       "      <td>1</td>\n",
       "      <td>2010s</td>\n",
       "      <td>Friday</td>\n",
       "      <td>4</td>\n",
       "      <td>6</td>\n",
       "      <td>-0.572108</td>\n",
       "      <td>-1.337036</td>\n",
       "      <td>-200237650</td>\n",
       "      <td>Dark Phoenix 2019-06-07</td>\n",
       "    </tr>\n",
       "    <tr>\n",
       "      <td>3</td>\n",
       "      <td>4</td>\n",
       "      <td>2015-05-01</td>\n",
       "      <td>Avengers: Age of Ultron</td>\n",
       "      <td>330600000</td>\n",
       "      <td>459005868</td>\n",
       "      <td>1403013963</td>\n",
       "      <td>2015</td>\n",
       "      <td>5</td>\n",
       "      <td>2010s</td>\n",
       "      <td>Friday</td>\n",
       "      <td>4</td>\n",
       "      <td>5</td>\n",
       "      <td>3.243841</td>\n",
       "      <td>0.764364</td>\n",
       "      <td>1072413963</td>\n",
       "      <td>Avengers: Age of Ultron 2015-05-01</td>\n",
       "    </tr>\n",
       "    <tr>\n",
       "      <td>4</td>\n",
       "      <td>5</td>\n",
       "      <td>2017-12-15</td>\n",
       "      <td>Star Wars Ep. VIII: The Last Jedi</td>\n",
       "      <td>317000000</td>\n",
       "      <td>620181382</td>\n",
       "      <td>1316721747</td>\n",
       "      <td>2017</td>\n",
       "      <td>3</td>\n",
       "      <td>2010s</td>\n",
       "      <td>Friday</td>\n",
       "      <td>4</td>\n",
       "      <td>12</td>\n",
       "      <td>3.153696</td>\n",
       "      <td>0.759251</td>\n",
       "      <td>999721747</td>\n",
       "      <td>Star Wars Ep. VIII: The Last Jedi 2017-12-15</td>\n",
       "    </tr>\n",
       "    <tr>\n",
       "      <td>...</td>\n",
       "      <td>...</td>\n",
       "      <td>...</td>\n",
       "      <td>...</td>\n",
       "      <td>...</td>\n",
       "      <td>...</td>\n",
       "      <td>...</td>\n",
       "      <td>...</td>\n",
       "      <td>...</td>\n",
       "      <td>...</td>\n",
       "      <td>...</td>\n",
       "      <td>...</td>\n",
       "      <td>...</td>\n",
       "      <td>...</td>\n",
       "      <td>...</td>\n",
       "      <td>...</td>\n",
       "      <td>...</td>\n",
       "    </tr>\n",
       "    <tr>\n",
       "      <td>5777</td>\n",
       "      <td>78</td>\n",
       "      <td>2018-12-31</td>\n",
       "      <td>Red 11</td>\n",
       "      <td>7000</td>\n",
       "      <td>0</td>\n",
       "      <td>0</td>\n",
       "      <td>2018</td>\n",
       "      <td>2</td>\n",
       "      <td>2010s</td>\n",
       "      <td>Monday</td>\n",
       "      <td>0</td>\n",
       "      <td>12</td>\n",
       "      <td>-1.000000</td>\n",
       "      <td>-inf</td>\n",
       "      <td>-7000</td>\n",
       "      <td>Red 11 2018-12-31</td>\n",
       "    </tr>\n",
       "    <tr>\n",
       "      <td>5778</td>\n",
       "      <td>79</td>\n",
       "      <td>1999-04-02</td>\n",
       "      <td>Following</td>\n",
       "      <td>6000</td>\n",
       "      <td>48482</td>\n",
       "      <td>240495</td>\n",
       "      <td>1999</td>\n",
       "      <td>21</td>\n",
       "      <td>1990s</td>\n",
       "      <td>Friday</td>\n",
       "      <td>4</td>\n",
       "      <td>4</td>\n",
       "      <td>39.082500</td>\n",
       "      <td>0.975051</td>\n",
       "      <td>234495</td>\n",
       "      <td>Following 1999-04-02</td>\n",
       "    </tr>\n",
       "    <tr>\n",
       "      <td>5779</td>\n",
       "      <td>80</td>\n",
       "      <td>2005-07-13</td>\n",
       "      <td>Return to the Land of Wonders</td>\n",
       "      <td>5000</td>\n",
       "      <td>1338</td>\n",
       "      <td>1338</td>\n",
       "      <td>2005</td>\n",
       "      <td>15</td>\n",
       "      <td>2000s</td>\n",
       "      <td>Wednesday</td>\n",
       "      <td>2</td>\n",
       "      <td>7</td>\n",
       "      <td>-0.732400</td>\n",
       "      <td>-2.736921</td>\n",
       "      <td>-3662</td>\n",
       "      <td>Return to the Land of Wonders 2005-07-13</td>\n",
       "    </tr>\n",
       "    <tr>\n",
       "      <td>5780</td>\n",
       "      <td>81</td>\n",
       "      <td>2015-09-29</td>\n",
       "      <td>A Plague So Pleasant</td>\n",
       "      <td>1400</td>\n",
       "      <td>0</td>\n",
       "      <td>0</td>\n",
       "      <td>2015</td>\n",
       "      <td>5</td>\n",
       "      <td>2010s</td>\n",
       "      <td>Tuesday</td>\n",
       "      <td>1</td>\n",
       "      <td>9</td>\n",
       "      <td>-1.000000</td>\n",
       "      <td>-inf</td>\n",
       "      <td>-1400</td>\n",
       "      <td>A Plague So Pleasant 2015-09-29</td>\n",
       "    </tr>\n",
       "    <tr>\n",
       "      <td>5781</td>\n",
       "      <td>82</td>\n",
       "      <td>2005-08-05</td>\n",
       "      <td>My Date With Drew</td>\n",
       "      <td>1100</td>\n",
       "      <td>181041</td>\n",
       "      <td>181041</td>\n",
       "      <td>2005</td>\n",
       "      <td>15</td>\n",
       "      <td>2000s</td>\n",
       "      <td>Friday</td>\n",
       "      <td>4</td>\n",
       "      <td>8</td>\n",
       "      <td>163.582727</td>\n",
       "      <td>0.993924</td>\n",
       "      <td>179941</td>\n",
       "      <td>My Date With Drew 2005-08-05</td>\n",
       "    </tr>\n",
       "  </tbody>\n",
       "</table>\n",
       "<p>5482 rows × 16 columns</p>\n",
       "</div>"
      ],
      "text/plain": [
       "      id release_date                                        movie  \\\n",
       "0      1   2009-12-18                                       Avatar   \n",
       "1      2   2011-05-20  Pirates of the Caribbean: On Stranger Tides   \n",
       "2      3   2019-06-07                                 Dark Phoenix   \n",
       "3      4   2015-05-01                      Avengers: Age of Ultron   \n",
       "4      5   2017-12-15            Star Wars Ep. VIII: The Last Jedi   \n",
       "...   ..          ...                                          ...   \n",
       "5777  78   2018-12-31                                       Red 11   \n",
       "5778  79   1999-04-02                                    Following   \n",
       "5779  80   2005-07-13                Return to the Land of Wonders   \n",
       "5780  81   2015-09-29                         A Plague So Pleasant   \n",
       "5781  82   2005-08-05                            My Date With Drew   \n",
       "\n",
       "      production_budget  domestic_gross  worldwide_gross  year_released  age  \\\n",
       "0             425000000       760507625       2776345279           2009   11   \n",
       "1             410600000       241063875       1045663875           2011    9   \n",
       "2             350000000        42762350        149762350           2019    1   \n",
       "3             330600000       459005868       1403013963           2015    5   \n",
       "4             317000000       620181382       1316721747           2017    3   \n",
       "...                 ...             ...              ...            ...  ...   \n",
       "5777               7000               0                0           2018    2   \n",
       "5778               6000           48482           240495           1999   21   \n",
       "5779               5000            1338             1338           2005   15   \n",
       "5780               1400               0                0           2015    5   \n",
       "5781               1100          181041           181041           2005   15   \n",
       "\n",
       "     decades        day  daynumber  month      markup  profitmargin  \\\n",
       "0      2000s     Friday          4     12    5.532577      0.846921   \n",
       "1      2010s     Friday          4      5    1.546673      0.607331   \n",
       "2      2010s     Friday          4      6   -0.572108     -1.337036   \n",
       "3      2010s     Friday          4      5    3.243841      0.764364   \n",
       "4      2010s     Friday          4     12    3.153696      0.759251   \n",
       "...      ...        ...        ...    ...         ...           ...   \n",
       "5777   2010s     Monday          0     12   -1.000000          -inf   \n",
       "5778   1990s     Friday          4      4   39.082500      0.975051   \n",
       "5779   2000s  Wednesday          2      7   -0.732400     -2.736921   \n",
       "5780   2010s    Tuesday          1      9   -1.000000          -inf   \n",
       "5781   2000s     Friday          4      8  163.582727      0.993924   \n",
       "\n",
       "       netprofit                                        movie_check  \n",
       "0     2351345279                                  Avatar 2009-12-18  \n",
       "1      635063875  Pirates of the Caribbean: On Stranger Tides 20...  \n",
       "2     -200237650                            Dark Phoenix 2019-06-07  \n",
       "3     1072413963                 Avengers: Age of Ultron 2015-05-01  \n",
       "4      999721747       Star Wars Ep. VIII: The Last Jedi 2017-12-15  \n",
       "...          ...                                                ...  \n",
       "5777       -7000                                  Red 11 2018-12-31  \n",
       "5778      234495                               Following 1999-04-02  \n",
       "5779       -3662           Return to the Land of Wonders 2005-07-13  \n",
       "5780       -1400                    A Plague So Pleasant 2015-09-29  \n",
       "5781      179941                       My Date With Drew 2005-08-05  \n",
       "\n",
       "[5482 rows x 16 columns]"
      ]
     },
     "execution_count": 25,
     "metadata": {},
     "output_type": "execute_result"
    }
   ],
   "source": [
    "df4decades"
   ]
  },
  {
   "cell_type": "code",
   "execution_count": 27,
   "metadata": {},
   "outputs": [
    {
     "name": "stdout",
     "output_type": "stream",
     "text": [
      "Stored 'dfyears2010' (DataFrame)\n"
     ]
    }
   ],
   "source": [
    "%store dfyears2010"
   ]
  },
  {
   "cell_type": "code",
   "execution_count": 28,
   "metadata": {},
   "outputs": [],
   "source": [
    "%store -r df2010\n",
    "%store -r df2000\n",
    "%store -r df1990\n",
    "%store -r df1980\n"
   ]
  },
  {
   "cell_type": "code",
   "execution_count": 29,
   "metadata": {},
   "outputs": [
    {
     "data": {
      "text/html": [
       "<div>\n",
       "<style scoped>\n",
       "    .dataframe tbody tr th:only-of-type {\n",
       "        vertical-align: middle;\n",
       "    }\n",
       "\n",
       "    .dataframe tbody tr th {\n",
       "        vertical-align: top;\n",
       "    }\n",
       "\n",
       "    .dataframe thead th {\n",
       "        text-align: right;\n",
       "    }\n",
       "</style>\n",
       "<table border=\"1\" class=\"dataframe\">\n",
       "  <thead>\n",
       "    <tr style=\"text-align: right;\">\n",
       "      <th></th>\n",
       "      <th>id</th>\n",
       "      <th>release_date</th>\n",
       "      <th>movie</th>\n",
       "      <th>production_budget</th>\n",
       "      <th>domestic_gross</th>\n",
       "      <th>worldwide_gross</th>\n",
       "      <th>year_released</th>\n",
       "      <th>age</th>\n",
       "      <th>decades</th>\n",
       "      <th>day</th>\n",
       "      <th>daynumber</th>\n",
       "      <th>month</th>\n",
       "      <th>markup</th>\n",
       "      <th>profitmargin</th>\n",
       "      <th>netprofit</th>\n",
       "      <th>movie_check</th>\n",
       "    </tr>\n",
       "  </thead>\n",
       "  <tbody>\n",
       "    <tr>\n",
       "      <td>1</td>\n",
       "      <td>2</td>\n",
       "      <td>2011-05-20</td>\n",
       "      <td>Pirates of the Caribbean: On Stranger Tides</td>\n",
       "      <td>410600000</td>\n",
       "      <td>241063875</td>\n",
       "      <td>1045663875</td>\n",
       "      <td>2011</td>\n",
       "      <td>9</td>\n",
       "      <td>0</td>\n",
       "      <td>Friday</td>\n",
       "      <td>4</td>\n",
       "      <td>5</td>\n",
       "      <td>1.546673</td>\n",
       "      <td>0.607331</td>\n",
       "      <td>635063875</td>\n",
       "      <td>Pirates of the Caribbean: On Stranger Tides 20...</td>\n",
       "    </tr>\n",
       "    <tr>\n",
       "      <td>2</td>\n",
       "      <td>3</td>\n",
       "      <td>2019-06-07</td>\n",
       "      <td>Dark Phoenix</td>\n",
       "      <td>350000000</td>\n",
       "      <td>42762350</td>\n",
       "      <td>149762350</td>\n",
       "      <td>2019</td>\n",
       "      <td>1</td>\n",
       "      <td>0</td>\n",
       "      <td>Friday</td>\n",
       "      <td>4</td>\n",
       "      <td>6</td>\n",
       "      <td>-0.572108</td>\n",
       "      <td>-1.337036</td>\n",
       "      <td>-200237650</td>\n",
       "      <td>Dark Phoenix 2019-06-07</td>\n",
       "    </tr>\n",
       "    <tr>\n",
       "      <td>3</td>\n",
       "      <td>4</td>\n",
       "      <td>2015-05-01</td>\n",
       "      <td>Avengers: Age of Ultron</td>\n",
       "      <td>330600000</td>\n",
       "      <td>459005868</td>\n",
       "      <td>1403013963</td>\n",
       "      <td>2015</td>\n",
       "      <td>5</td>\n",
       "      <td>0</td>\n",
       "      <td>Friday</td>\n",
       "      <td>4</td>\n",
       "      <td>5</td>\n",
       "      <td>3.243841</td>\n",
       "      <td>0.764364</td>\n",
       "      <td>1072413963</td>\n",
       "      <td>Avengers: Age of Ultron 2015-05-01</td>\n",
       "    </tr>\n",
       "    <tr>\n",
       "      <td>4</td>\n",
       "      <td>5</td>\n",
       "      <td>2017-12-15</td>\n",
       "      <td>Star Wars Ep. VIII: The Last Jedi</td>\n",
       "      <td>317000000</td>\n",
       "      <td>620181382</td>\n",
       "      <td>1316721747</td>\n",
       "      <td>2017</td>\n",
       "      <td>3</td>\n",
       "      <td>0</td>\n",
       "      <td>Friday</td>\n",
       "      <td>4</td>\n",
       "      <td>12</td>\n",
       "      <td>3.153696</td>\n",
       "      <td>0.759251</td>\n",
       "      <td>999721747</td>\n",
       "      <td>Star Wars Ep. VIII: The Last Jedi 2017-12-15</td>\n",
       "    </tr>\n",
       "    <tr>\n",
       "      <td>5</td>\n",
       "      <td>6</td>\n",
       "      <td>2015-12-18</td>\n",
       "      <td>Star Wars Ep. VII: The Force Awakens</td>\n",
       "      <td>306000000</td>\n",
       "      <td>936662225</td>\n",
       "      <td>2053311220</td>\n",
       "      <td>2015</td>\n",
       "      <td>5</td>\n",
       "      <td>0</td>\n",
       "      <td>Friday</td>\n",
       "      <td>4</td>\n",
       "      <td>12</td>\n",
       "      <td>5.710167</td>\n",
       "      <td>0.850972</td>\n",
       "      <td>1747311220</td>\n",
       "      <td>Star Wars Ep. VII: The Force Awakens 2015-12-18</td>\n",
       "    </tr>\n",
       "  </tbody>\n",
       "</table>\n",
       "</div>"
      ],
      "text/plain": [
       "   id release_date                                        movie  \\\n",
       "1   2   2011-05-20  Pirates of the Caribbean: On Stranger Tides   \n",
       "2   3   2019-06-07                                 Dark Phoenix   \n",
       "3   4   2015-05-01                      Avengers: Age of Ultron   \n",
       "4   5   2017-12-15            Star Wars Ep. VIII: The Last Jedi   \n",
       "5   6   2015-12-18         Star Wars Ep. VII: The Force Awakens   \n",
       "\n",
       "   production_budget  domestic_gross  worldwide_gross  year_released  age  \\\n",
       "1          410600000       241063875       1045663875           2011    9   \n",
       "2          350000000        42762350        149762350           2019    1   \n",
       "3          330600000       459005868       1403013963           2015    5   \n",
       "4          317000000       620181382       1316721747           2017    3   \n",
       "5          306000000       936662225       2053311220           2015    5   \n",
       "\n",
       "   decades     day  daynumber  month    markup  profitmargin   netprofit  \\\n",
       "1        0  Friday          4      5  1.546673      0.607331   635063875   \n",
       "2        0  Friday          4      6 -0.572108     -1.337036  -200237650   \n",
       "3        0  Friday          4      5  3.243841      0.764364  1072413963   \n",
       "4        0  Friday          4     12  3.153696      0.759251   999721747   \n",
       "5        0  Friday          4     12  5.710167      0.850972  1747311220   \n",
       "\n",
       "                                         movie_check  \n",
       "1  Pirates of the Caribbean: On Stranger Tides 20...  \n",
       "2                            Dark Phoenix 2019-06-07  \n",
       "3                 Avengers: Age of Ultron 2015-05-01  \n",
       "4       Star Wars Ep. VIII: The Last Jedi 2017-12-15  \n",
       "5    Star Wars Ep. VII: The Force Awakens 2015-12-18  "
      ]
     },
     "execution_count": 29,
     "metadata": {},
     "output_type": "execute_result"
    }
   ],
   "source": [
    "df2010.head()"
   ]
  },
  {
   "cell_type": "markdown",
   "metadata": {},
   "source": [
    "comparing relese , gross and decade data"
   ]
  },
  {
   "cell_type": "code",
   "execution_count": 30,
   "metadata": {},
   "outputs": [
    {
     "data": {
      "text/html": [
       "<div>\n",
       "<style scoped>\n",
       "    .dataframe tbody tr th:only-of-type {\n",
       "        vertical-align: middle;\n",
       "    }\n",
       "\n",
       "    .dataframe tbody tr th {\n",
       "        vertical-align: top;\n",
       "    }\n",
       "\n",
       "    .dataframe thead th {\n",
       "        text-align: right;\n",
       "    }\n",
       "</style>\n",
       "<table border=\"1\" class=\"dataframe\">\n",
       "  <thead>\n",
       "    <tr style=\"text-align: right;\">\n",
       "      <th></th>\n",
       "      <th>month</th>\n",
       "      <th>worldwide_gross</th>\n",
       "    </tr>\n",
       "  </thead>\n",
       "  <tbody>\n",
       "    <tr>\n",
       "      <td>0</td>\n",
       "      <td>1</td>\n",
       "      <td>41224421.0</td>\n",
       "    </tr>\n",
       "    <tr>\n",
       "      <td>1</td>\n",
       "      <td>2</td>\n",
       "      <td>43953337.0</td>\n",
       "    </tr>\n",
       "    <tr>\n",
       "      <td>2</td>\n",
       "      <td>3</td>\n",
       "      <td>19599974.0</td>\n",
       "    </tr>\n",
       "    <tr>\n",
       "      <td>3</td>\n",
       "      <td>4</td>\n",
       "      <td>17478366.5</td>\n",
       "    </tr>\n",
       "    <tr>\n",
       "      <td>4</td>\n",
       "      <td>5</td>\n",
       "      <td>48249489.0</td>\n",
       "    </tr>\n",
       "    <tr>\n",
       "      <td>5</td>\n",
       "      <td>6</td>\n",
       "      <td>38952463.5</td>\n",
       "    </tr>\n",
       "    <tr>\n",
       "      <td>6</td>\n",
       "      <td>7</td>\n",
       "      <td>61449135.0</td>\n",
       "    </tr>\n",
       "    <tr>\n",
       "      <td>7</td>\n",
       "      <td>8</td>\n",
       "      <td>40585745.5</td>\n",
       "    </tr>\n",
       "    <tr>\n",
       "      <td>8</td>\n",
       "      <td>9</td>\n",
       "      <td>21970000.0</td>\n",
       "    </tr>\n",
       "    <tr>\n",
       "      <td>9</td>\n",
       "      <td>10</td>\n",
       "      <td>15505922.0</td>\n",
       "    </tr>\n",
       "    <tr>\n",
       "      <td>10</td>\n",
       "      <td>11</td>\n",
       "      <td>51695362.0</td>\n",
       "    </tr>\n",
       "    <tr>\n",
       "      <td>11</td>\n",
       "      <td>12</td>\n",
       "      <td>9832887.0</td>\n",
       "    </tr>\n",
       "  </tbody>\n",
       "</table>\n",
       "</div>"
      ],
      "text/plain": [
       "    month  worldwide_gross\n",
       "0       1       41224421.0\n",
       "1       2       43953337.0\n",
       "2       3       19599974.0\n",
       "3       4       17478366.5\n",
       "4       5       48249489.0\n",
       "5       6       38952463.5\n",
       "6       7       61449135.0\n",
       "7       8       40585745.5\n",
       "8       9       21970000.0\n",
       "9      10       15505922.0\n",
       "10     11       51695362.0\n",
       "11     12        9832887.0"
      ]
     },
     "execution_count": 30,
     "metadata": {},
     "output_type": "execute_result"
    }
   ],
   "source": [
    "avg1980 = pd.DataFrame(df1980.groupby('month')['worldwide_gross'].median())\n",
    "avg1980.reset_index(inplace = True)\n",
    "avg1980\n",
    "\n",
    "avg1990 = pd.DataFrame(df1990.groupby('month')['worldwide_gross'].median())\n",
    "avg1990.reset_index(inplace = True)\n",
    "avg1990\n",
    "\n",
    "avg2000 = pd.DataFrame(df2000.groupby('month')['worldwide_gross'].median())\n",
    "avg2000.reset_index(inplace = True)\n",
    "avg2000\n",
    "\n",
    "avg2010 = pd.DataFrame(df2010.groupby('month')['worldwide_gross'].median())\n",
    "avg2010.reset_index(inplace = True)\n",
    "avg2010"
   ]
  },
  {
   "cell_type": "code",
   "execution_count": 31,
   "metadata": {},
   "outputs": [
    {
     "data": {
      "text/html": [
       "<div>\n",
       "<style scoped>\n",
       "    .dataframe tbody tr th:only-of-type {\n",
       "        vertical-align: middle;\n",
       "    }\n",
       "\n",
       "    .dataframe tbody tr th {\n",
       "        vertical-align: top;\n",
       "    }\n",
       "\n",
       "    .dataframe thead th {\n",
       "        text-align: right;\n",
       "    }\n",
       "</style>\n",
       "<table border=\"1\" class=\"dataframe\">\n",
       "  <thead>\n",
       "    <tr style=\"text-align: right;\">\n",
       "      <th></th>\n",
       "      <th>month</th>\n",
       "      <th>worldwide_gross</th>\n",
       "    </tr>\n",
       "  </thead>\n",
       "  <tbody>\n",
       "    <tr>\n",
       "      <td>0</td>\n",
       "      <td>1</td>\n",
       "      <td>10013789.5</td>\n",
       "    </tr>\n",
       "    <tr>\n",
       "      <td>1</td>\n",
       "      <td>2</td>\n",
       "      <td>23360779.0</td>\n",
       "    </tr>\n",
       "    <tr>\n",
       "      <td>2</td>\n",
       "      <td>3</td>\n",
       "      <td>24355762.0</td>\n",
       "    </tr>\n",
       "    <tr>\n",
       "      <td>3</td>\n",
       "      <td>4</td>\n",
       "      <td>22032635.0</td>\n",
       "    </tr>\n",
       "    <tr>\n",
       "      <td>4</td>\n",
       "      <td>5</td>\n",
       "      <td>26936265.0</td>\n",
       "    </tr>\n",
       "    <tr>\n",
       "      <td>5</td>\n",
       "      <td>6</td>\n",
       "      <td>149488425.5</td>\n",
       "    </tr>\n",
       "    <tr>\n",
       "      <td>6</td>\n",
       "      <td>7</td>\n",
       "      <td>71743823.0</td>\n",
       "    </tr>\n",
       "    <tr>\n",
       "      <td>7</td>\n",
       "      <td>8</td>\n",
       "      <td>21171695.0</td>\n",
       "    </tr>\n",
       "    <tr>\n",
       "      <td>8</td>\n",
       "      <td>9</td>\n",
       "      <td>15471969.0</td>\n",
       "    </tr>\n",
       "    <tr>\n",
       "      <td>9</td>\n",
       "      <td>10</td>\n",
       "      <td>15900113.0</td>\n",
       "    </tr>\n",
       "    <tr>\n",
       "      <td>10</td>\n",
       "      <td>11</td>\n",
       "      <td>65448263.5</td>\n",
       "    </tr>\n",
       "    <tr>\n",
       "      <td>11</td>\n",
       "      <td>12</td>\n",
       "      <td>63118386.0</td>\n",
       "    </tr>\n",
       "  </tbody>\n",
       "</table>\n",
       "</div>"
      ],
      "text/plain": [
       "    month  worldwide_gross\n",
       "0       1       10013789.5\n",
       "1       2       23360779.0\n",
       "2       3       24355762.0\n",
       "3       4       22032635.0\n",
       "4       5       26936265.0\n",
       "5       6      149488425.5\n",
       "6       7       71743823.0\n",
       "7       8       21171695.0\n",
       "8       9       15471969.0\n",
       "9      10       15900113.0\n",
       "10     11       65448263.5\n",
       "11     12       63118386.0"
      ]
     },
     "execution_count": 31,
     "metadata": {},
     "output_type": "execute_result"
    }
   ],
   "source": [
    "avg1990"
   ]
  },
  {
   "cell_type": "code",
   "execution_count": 32,
   "metadata": {
    "scrolled": false
   },
   "outputs": [
    {
     "data": {
      "text/plain": [
       "(0, 160000000)"
      ]
     },
     "execution_count": 32,
     "metadata": {},
     "output_type": "execute_result"
    },
    {
     "data": {
      "image/png": "[encoded data removed]",
      "text/plain": [
       "<Figure size 1080x1080 with 4 Axes>"
      ]
     },
     "metadata": {},
     "output_type": "display_data"
    }
   ],
   "source": [
    "fig, axes=plt.subplots(nrows=2, ncols=2, figsize=(15,15))\n",
    "ax = axes[0][0]\n",
    "ax1 = axes[0][1]\n",
    "ax2 = axes[1][0]\n",
    "ax3 = axes[1][1]\n",
    "\n",
    "sns.barplot(x='month',y='worldwide_gross',data=avg1980, ax = ax)\n",
    "sns.barplot(x='month',y='worldwide_gross',data=avg1990, ax = ax1)\n",
    "sns.barplot(x='month',y='worldwide_gross',data=avg2000, ax = ax2)\n",
    "sns.barplot(x='month',y='worldwide_gross',data=avg2010, ax = ax3)\n",
    "ax.set_title('1980s', size = 15)\n",
    "ax1.set_title('1990s', size = 15)\n",
    "ax2.set_title('2000s', size = 15)\n",
    "ax3.set_title('2010s', size = 15)\n",
    "\n",
    "ax.set_xlabel('Month')\n",
    "ax1.set_xlabel('Month')\n",
    "ax2.set_xlabel('Month')\n",
    "ax3.set_xlabel('Month')\n",
    "\n",
    "ax.set_ylabel('Gross Revenue in Billions USD',labelpad = 10, size = 12)\n",
    "ax1.set_ylabel('Gross Revenue in Billions USD',labelpad = 10, size = 12)\n",
    "ax2.set_ylabel('Gross Revenue in Billions USD',labelpad = 10, size = 12)\n",
    "ax3.set_ylabel('Gross Revenue in Billions USD',labelpad = 10, size = 12)\n",
    "\n",
    "\n",
    "\n",
    "ax.set_ylim(0,160000000)\n",
    "ax1.set_ylim(0,160000000)\n",
    "ax2.set_ylim(0,160000000)\n",
    "ax3.set_ylim(0,160000000)\n"
   ]
  },
  {
   "cell_type": "markdown",
   "metadata": {},
   "source": [
    "the data shows that summer and christmas time have been the most profitable by gross over the past 4 decades"
   ]
  },
  {
   "cell_type": "code",
   "execution_count": 41,
   "metadata": {},
   "outputs": [
    {
     "data": {
      "text/html": [
       "<div>\n",
       "<style scoped>\n",
       "    .dataframe tbody tr th:only-of-type {\n",
       "        vertical-align: middle;\n",
       "    }\n",
       "\n",
       "    .dataframe tbody tr th {\n",
       "        vertical-align: top;\n",
       "    }\n",
       "\n",
       "    .dataframe thead th {\n",
       "        text-align: right;\n",
       "    }\n",
       "</style>\n",
       "<table border=\"1\" class=\"dataframe\">\n",
       "  <thead>\n",
       "    <tr style=\"text-align: right;\">\n",
       "      <th></th>\n",
       "      <th>mean</th>\n",
       "      <th>median</th>\n",
       "      <th>sum</th>\n",
       "    </tr>\n",
       "    <tr>\n",
       "      <th>day</th>\n",
       "      <th></th>\n",
       "      <th></th>\n",
       "      <th></th>\n",
       "    </tr>\n",
       "  </thead>\n",
       "  <tbody>\n",
       "    <tr>\n",
       "      <td>Friday</td>\n",
       "      <td>7.388271e+07</td>\n",
       "      <td>28983573.5</td>\n",
       "      <td>60140522020</td>\n",
       "    </tr>\n",
       "    <tr>\n",
       "      <td>Monday</td>\n",
       "      <td>2.813374e+07</td>\n",
       "      <td>1050861.0</td>\n",
       "      <td>140668725</td>\n",
       "    </tr>\n",
       "    <tr>\n",
       "      <td>Saturday</td>\n",
       "      <td>8.048604e+07</td>\n",
       "      <td>34961178.5</td>\n",
       "      <td>482916216</td>\n",
       "    </tr>\n",
       "    <tr>\n",
       "      <td>Sunday</td>\n",
       "      <td>1.061545e+07</td>\n",
       "      <td>2022893.0</td>\n",
       "      <td>53077255</td>\n",
       "    </tr>\n",
       "    <tr>\n",
       "      <td>Thursday</td>\n",
       "      <td>1.449939e+08</td>\n",
       "      <td>69489765.0</td>\n",
       "      <td>1739927139</td>\n",
       "    </tr>\n",
       "    <tr>\n",
       "      <td>Tuesday</td>\n",
       "      <td>1.943370e+08</td>\n",
       "      <td>28871190.0</td>\n",
       "      <td>2915054488</td>\n",
       "    </tr>\n",
       "    <tr>\n",
       "      <td>Wednesday</td>\n",
       "      <td>1.276986e+08</td>\n",
       "      <td>47407635.0</td>\n",
       "      <td>15962323471</td>\n",
       "    </tr>\n",
       "  </tbody>\n",
       "</table>\n",
       "</div>"
      ],
      "text/plain": [
       "                   mean      median          sum\n",
       "day                                             \n",
       "Friday     7.388271e+07  28983573.5  60140522020\n",
       "Monday     2.813374e+07   1050861.0    140668725\n",
       "Saturday   8.048604e+07  34961178.5    482916216\n",
       "Sunday     1.061545e+07   2022893.0     53077255\n",
       "Thursday   1.449939e+08  69489765.0   1739927139\n",
       "Tuesday    1.943370e+08  28871190.0   2915054488\n",
       "Wednesday  1.276986e+08  47407635.0  15962323471"
      ]
     },
     "execution_count": 41,
     "metadata": {},
     "output_type": "execute_result"
    }
   ],
   "source": [
    "#comparing day and gross for 1990-2000\n",
    "\n",
    "df1990.groupby('day')['worldwide_gross'].agg(['mean','median','sum'])"
   ]
  },
  {
   "cell_type": "code",
   "execution_count": 34,
   "metadata": {},
   "outputs": [
    {
     "data": {
      "text/plain": [
       "21414092749"
      ]
     },
     "execution_count": 34,
     "metadata": {},
     "output_type": "execute_result"
    }
   ],
   "source": [
    "df1980['worldwide_gross'].sum()"
   ]
  },
  {
   "cell_type": "code",
   "execution_count": 42,
   "metadata": {},
   "outputs": [
    {
     "data": {
      "text/html": [
       "<div>\n",
       "<style scoped>\n",
       "    .dataframe tbody tr th:only-of-type {\n",
       "        vertical-align: middle;\n",
       "    }\n",
       "\n",
       "    .dataframe tbody tr th {\n",
       "        vertical-align: top;\n",
       "    }\n",
       "\n",
       "    .dataframe thead th {\n",
       "        text-align: right;\n",
       "    }\n",
       "</style>\n",
       "<table border=\"1\" class=\"dataframe\">\n",
       "  <thead>\n",
       "    <tr style=\"text-align: right;\">\n",
       "      <th></th>\n",
       "      <th>id</th>\n",
       "      <th>release_date</th>\n",
       "      <th>movie</th>\n",
       "      <th>production_budget</th>\n",
       "      <th>domestic_gross</th>\n",
       "      <th>worldwide_gross</th>\n",
       "      <th>year_released</th>\n",
       "      <th>age</th>\n",
       "      <th>decades</th>\n",
       "      <th>day</th>\n",
       "      <th>daynumber</th>\n",
       "      <th>month</th>\n",
       "      <th>markup</th>\n",
       "      <th>profitmargin</th>\n",
       "      <th>netprofit</th>\n",
       "      <th>movie_check</th>\n",
       "    </tr>\n",
       "  </thead>\n",
       "  <tbody>\n",
       "    <tr>\n",
       "      <td>1458</td>\n",
       "      <td>59</td>\n",
       "      <td>2012-12-19</td>\n",
       "      <td>The Guilt Trip</td>\n",
       "      <td>40000000</td>\n",
       "      <td>37134215</td>\n",
       "      <td>41294674</td>\n",
       "      <td>2012</td>\n",
       "      <td>8</td>\n",
       "      <td>0</td>\n",
       "      <td>Wednesday</td>\n",
       "      <td>2</td>\n",
       "      <td>12</td>\n",
       "      <td>0.032367</td>\n",
       "      <td>0.031352</td>\n",
       "      <td>1294674</td>\n",
       "      <td>The Guilt Trip 2012-12-19</td>\n",
       "    </tr>\n",
       "    <tr>\n",
       "      <td>236</td>\n",
       "      <td>37</td>\n",
       "      <td>2014-11-26</td>\n",
       "      <td>Penguins of Madagascar</td>\n",
       "      <td>132000000</td>\n",
       "      <td>83350911</td>\n",
       "      <td>366942531</td>\n",
       "      <td>2014</td>\n",
       "      <td>6</td>\n",
       "      <td>0</td>\n",
       "      <td>Wednesday</td>\n",
       "      <td>2</td>\n",
       "      <td>11</td>\n",
       "      <td>1.779868</td>\n",
       "      <td>0.640271</td>\n",
       "      <td>234942531</td>\n",
       "      <td>Penguins of Madagascar 2014-11-26</td>\n",
       "    </tr>\n",
       "    <tr>\n",
       "      <td>201</td>\n",
       "      <td>2</td>\n",
       "      <td>2012-11-21</td>\n",
       "      <td>Rise of the Guardians</td>\n",
       "      <td>145000000</td>\n",
       "      <td>103412758</td>\n",
       "      <td>306900902</td>\n",
       "      <td>2012</td>\n",
       "      <td>8</td>\n",
       "      <td>0</td>\n",
       "      <td>Wednesday</td>\n",
       "      <td>2</td>\n",
       "      <td>11</td>\n",
       "      <td>1.116558</td>\n",
       "      <td>0.527535</td>\n",
       "      <td>161900902</td>\n",
       "      <td>Rise of the Guardians 2012-11-21</td>\n",
       "    </tr>\n",
       "    <tr>\n",
       "      <td>5501</td>\n",
       "      <td>2</td>\n",
       "      <td>2014-12-31</td>\n",
       "      <td>Rise Of the Entrepreneur - The Search For A Be...</td>\n",
       "      <td>450000</td>\n",
       "      <td>0</td>\n",
       "      <td>0</td>\n",
       "      <td>2014</td>\n",
       "      <td>6</td>\n",
       "      <td>0</td>\n",
       "      <td>Wednesday</td>\n",
       "      <td>2</td>\n",
       "      <td>12</td>\n",
       "      <td>-1.000000</td>\n",
       "      <td>-inf</td>\n",
       "      <td>-450000</td>\n",
       "      <td>Rise Of the Entrepreneur - The Search For A Be...</td>\n",
       "    </tr>\n",
       "    <tr>\n",
       "      <td>212</td>\n",
       "      <td>13</td>\n",
       "      <td>2013-03-27</td>\n",
       "      <td>G.I. Joe: Retaliation</td>\n",
       "      <td>140000000</td>\n",
       "      <td>122523060</td>\n",
       "      <td>375740705</td>\n",
       "      <td>2013</td>\n",
       "      <td>7</td>\n",
       "      <td>0</td>\n",
       "      <td>Wednesday</td>\n",
       "      <td>2</td>\n",
       "      <td>3</td>\n",
       "      <td>1.683862</td>\n",
       "      <td>0.627403</td>\n",
       "      <td>235740705</td>\n",
       "      <td>G.I. Joe: Retaliation 2013-03-27</td>\n",
       "    </tr>\n",
       "    <tr>\n",
       "      <td>...</td>\n",
       "      <td>...</td>\n",
       "      <td>...</td>\n",
       "      <td>...</td>\n",
       "      <td>...</td>\n",
       "      <td>...</td>\n",
       "      <td>...</td>\n",
       "      <td>...</td>\n",
       "      <td>...</td>\n",
       "      <td>...</td>\n",
       "      <td>...</td>\n",
       "      <td>...</td>\n",
       "      <td>...</td>\n",
       "      <td>...</td>\n",
       "      <td>...</td>\n",
       "      <td>...</td>\n",
       "      <td>...</td>\n",
       "    </tr>\n",
       "    <tr>\n",
       "      <td>1958</td>\n",
       "      <td>59</td>\n",
       "      <td>2017-09-15</td>\n",
       "      <td>mother!</td>\n",
       "      <td>30000000</td>\n",
       "      <td>17800004</td>\n",
       "      <td>42531076</td>\n",
       "      <td>2017</td>\n",
       "      <td>3</td>\n",
       "      <td>0</td>\n",
       "      <td>Friday</td>\n",
       "      <td>4</td>\n",
       "      <td>9</td>\n",
       "      <td>0.417703</td>\n",
       "      <td>0.294633</td>\n",
       "      <td>12531076</td>\n",
       "      <td>mother! 2017-09-15</td>\n",
       "    </tr>\n",
       "    <tr>\n",
       "      <td>1957</td>\n",
       "      <td>58</td>\n",
       "      <td>2011-08-19</td>\n",
       "      <td>Fright Night</td>\n",
       "      <td>30000000</td>\n",
       "      <td>18298649</td>\n",
       "      <td>40520649</td>\n",
       "      <td>2011</td>\n",
       "      <td>9</td>\n",
       "      <td>0</td>\n",
       "      <td>Friday</td>\n",
       "      <td>4</td>\n",
       "      <td>8</td>\n",
       "      <td>0.350688</td>\n",
       "      <td>0.259637</td>\n",
       "      <td>10520649</td>\n",
       "      <td>Fright Night 2011-08-19</td>\n",
       "    </tr>\n",
       "    <tr>\n",
       "      <td>1954</td>\n",
       "      <td>55</td>\n",
       "      <td>2017-04-28</td>\n",
       "      <td>Baahubali 2: The Conclusion</td>\n",
       "      <td>30000000</td>\n",
       "      <td>18985794</td>\n",
       "      <td>263502914</td>\n",
       "      <td>2017</td>\n",
       "      <td>3</td>\n",
       "      <td>0</td>\n",
       "      <td>Friday</td>\n",
       "      <td>4</td>\n",
       "      <td>4</td>\n",
       "      <td>7.783430</td>\n",
       "      <td>0.886149</td>\n",
       "      <td>233502914</td>\n",
       "      <td>Baahubali 2: The Conclusion 2017-04-28</td>\n",
       "    </tr>\n",
       "    <tr>\n",
       "      <td>1952</td>\n",
       "      <td>53</td>\n",
       "      <td>2013-10-04</td>\n",
       "      <td>Runner Runner</td>\n",
       "      <td>30000000</td>\n",
       "      <td>19316646</td>\n",
       "      <td>60512680</td>\n",
       "      <td>2013</td>\n",
       "      <td>7</td>\n",
       "      <td>0</td>\n",
       "      <td>Friday</td>\n",
       "      <td>4</td>\n",
       "      <td>10</td>\n",
       "      <td>1.017089</td>\n",
       "      <td>0.504236</td>\n",
       "      <td>30512680</td>\n",
       "      <td>Runner Runner 2013-10-04</td>\n",
       "    </tr>\n",
       "    <tr>\n",
       "      <td>2903</td>\n",
       "      <td>4</td>\n",
       "      <td>2012-08-24</td>\n",
       "      <td>The Apparition</td>\n",
       "      <td>17000000</td>\n",
       "      <td>4936819</td>\n",
       "      <td>10637281</td>\n",
       "      <td>2012</td>\n",
       "      <td>8</td>\n",
       "      <td>0</td>\n",
       "      <td>Friday</td>\n",
       "      <td>4</td>\n",
       "      <td>8</td>\n",
       "      <td>-0.374278</td>\n",
       "      <td>-0.598153</td>\n",
       "      <td>-6362719</td>\n",
       "      <td>The Apparition 2012-08-24</td>\n",
       "    </tr>\n",
       "  </tbody>\n",
       "</table>\n",
       "<p>1917 rows × 16 columns</p>\n",
       "</div>"
      ],
      "text/plain": [
       "      id release_date                                              movie  \\\n",
       "1458  59   2012-12-19                                     The Guilt Trip   \n",
       "236   37   2014-11-26                             Penguins of Madagascar   \n",
       "201    2   2012-11-21                              Rise of the Guardians   \n",
       "5501   2   2014-12-31  Rise Of the Entrepreneur - The Search For A Be...   \n",
       "212   13   2013-03-27                              G.I. Joe: Retaliation   \n",
       "...   ..          ...                                                ...   \n",
       "1958  59   2017-09-15                                            mother!   \n",
       "1957  58   2011-08-19                                       Fright Night   \n",
       "1954  55   2017-04-28                        Baahubali 2: The Conclusion   \n",
       "1952  53   2013-10-04                                      Runner Runner   \n",
       "2903   4   2012-08-24                                     The Apparition   \n",
       "\n",
       "      production_budget  domestic_gross  worldwide_gross  year_released  age  \\\n",
       "1458           40000000        37134215         41294674           2012    8   \n",
       "236           132000000        83350911        366942531           2014    6   \n",
       "201           145000000       103412758        306900902           2012    8   \n",
       "5501             450000               0                0           2014    6   \n",
       "212           140000000       122523060        375740705           2013    7   \n",
       "...                 ...             ...              ...            ...  ...   \n",
       "1958           30000000        17800004         42531076           2017    3   \n",
       "1957           30000000        18298649         40520649           2011    9   \n",
       "1954           30000000        18985794        263502914           2017    3   \n",
       "1952           30000000        19316646         60512680           2013    7   \n",
       "2903           17000000         4936819         10637281           2012    8   \n",
       "\n",
       "      decades        day  daynumber  month    markup  profitmargin  netprofit  \\\n",
       "1458        0  Wednesday          2     12  0.032367      0.031352    1294674   \n",
       "236         0  Wednesday          2     11  1.779868      0.640271  234942531   \n",
       "201         0  Wednesday          2     11  1.116558      0.527535  161900902   \n",
       "5501        0  Wednesday          2     12 -1.000000          -inf    -450000   \n",
       "212         0  Wednesday          2      3  1.683862      0.627403  235740705   \n",
       "...       ...        ...        ...    ...       ...           ...        ...   \n",
       "1958        0     Friday          4      9  0.417703      0.294633   12531076   \n",
       "1957        0     Friday          4      8  0.350688      0.259637   10520649   \n",
       "1954        0     Friday          4      4  7.783430      0.886149  233502914   \n",
       "1952        0     Friday          4     10  1.017089      0.504236   30512680   \n",
       "2903        0     Friday          4      8 -0.374278     -0.598153   -6362719   \n",
       "\n",
       "                                            movie_check  \n",
       "1458                          The Guilt Trip 2012-12-19  \n",
       "236                   Penguins of Madagascar 2014-11-26  \n",
       "201                    Rise of the Guardians 2012-11-21  \n",
       "5501  Rise Of the Entrepreneur - The Search For A Be...  \n",
       "212                    G.I. Joe: Retaliation 2013-03-27  \n",
       "...                                                 ...  \n",
       "1958                                 mother! 2017-09-15  \n",
       "1957                            Fright Night 2011-08-19  \n",
       "1954             Baahubali 2: The Conclusion 2017-04-28  \n",
       "1952                           Runner Runner 2013-10-04  \n",
       "2903                          The Apparition 2012-08-24  \n",
       "\n",
       "[1917 rows x 16 columns]"
      ]
     },
     "execution_count": 42,
     "metadata": {},
     "output_type": "execute_result"
    }
   ],
   "source": [
    "df1980.sort_values(by = 'day',ascending = False)\n",
    "df1990.sort_values(by = 'day',ascending = False)\n",
    "df2000.sort_values(by = 'day',ascending = False)\n",
    "df2010.sort_values(by = 'day',ascending = False)"
   ]
  },
  {
   "cell_type": "code",
   "execution_count": 43,
   "metadata": {},
   "outputs": [
    {
     "data": {
      "text/plain": [
       "day\n",
       "Thursday     69489765.0\n",
       "Wednesday    47407635.0\n",
       "Saturday     34961178.5\n",
       "Friday       28983573.5\n",
       "Tuesday      28871190.0\n",
       "Sunday        2022893.0\n",
       "Monday        1050861.0\n",
       "Name: worldwide_gross, dtype: float64"
      ]
     },
     "execution_count": 43,
     "metadata": {},
     "output_type": "execute_result"
    }
   ],
   "source": [
    "df1990.groupby('day')['worldwide_gross'].median().sort_values(ascending = False)"
   ]
  },
  {
   "cell_type": "markdown",
   "metadata": {},
   "source": [
    "examining day of release"
   ]
  },
  {
   "cell_type": "code",
   "execution_count": 44,
   "metadata": {},
   "outputs": [
    {
     "data": {
      "text/plain": [
       "Text(0.5, 0, 'Day of Week')"
      ]
     },
     "execution_count": 44,
     "metadata": {},
     "output_type": "execute_result"
    },
    {
     "data": {
      "image/png": "[encoded data removed]",
      "text/plain": [
       "<Figure size 1440x360 with 4 Axes>"
      ]
     },
     "metadata": {},
     "output_type": "display_data"
    }
   ],
   "source": [
    "new_figure = plt.figure(figsize=(20,5))\n",
    "\n",
    "# Add a subplot to the figure - a new axes\n",
    "ax1 = new_figure.add_subplot(141)\n",
    "\n",
    "# Add a second subplot to the figure - a new axes\n",
    "ax2 = new_figure.add_subplot(142)\n",
    "ax3 = new_figure.add_subplot(143)\n",
    "ax4 = new_figure.add_subplot(144)\n",
    "\n",
    "sns.boxplot(x='month',y='worldwide_gross',data=df1980, ax = ax1)\n",
    "sns.boxplot(x='month',y='worldwide_gross',data=df1990, ax = ax2)\n",
    "sns.boxplot(x='month',y='worldwide_gross',data=df2000, ax = ax3)\n",
    "sns.boxplot(x='month',y='worldwide_gross',data=df2010, ax = ax4)\n",
    "ax.set_title('1980s')\n",
    "ax1.set_title('1990s')\n",
    "ax2.set_title('2000s')\n",
    "ax3.set_title('2010s')\n",
    "\n",
    "ax.set_xlabel('Day of Week')\n",
    "ax1.set_xlabel('Day of Week')\n",
    "ax2.set_xlabel('Day of Week')\n",
    "ax3.set_xlabel('Day of Week')\n"
   ]
  },
  {
   "cell_type": "code",
   "execution_count": 39,
   "metadata": {
    "scrolled": false
   },
   "outputs": [
    {
     "data": {
      "text/plain": [
       "Text(0.5, 0, 'Day of Week')"
      ]
     },
     "execution_count": 39,
     "metadata": {},
     "output_type": "execute_result"
    },
    {
     "data": {
      "image/png": "[encoded data removed]",
      "text/plain": [
       "<Figure size 1440x360 with 4 Axes>"
      ]
     },
     "metadata": {},
     "output_type": "display_data"
    }
   ],
   "source": [
    "new_figure = plt.figure(figsize=(20,5))\n",
    "\n",
    "# Add a subplot to the figure - a new axes\n",
    "ax1 = new_figure.add_subplot(141)\n",
    "\n",
    "# Add a second subplot to the figure - a new axes\n",
    "ax2 = new_figure.add_subplot(142)\n",
    "ax3 = new_figure.add_subplot(143)\n",
    "ax4 = new_figure.add_subplot(144)\n",
    "\n",
    "sns.boxplot(x='daynumber',y='worldwide_gross',data=df1980, ax = ax1)\n",
    "sns.boxplot(x='daynumber',y='worldwide_gross',data=df1990, ax = ax2)\n",
    "sns.boxplot(x='daynumber',y='worldwide_gross',data=df2000, ax = ax3)\n",
    "sns.boxplot(x='daynumber',y='worldwide_gross',data=df2010, ax = ax4)\n",
    "ax1.set_title('1980s')\n",
    "ax2.set_title('1990s')\n",
    "ax3.set_title('2000s')\n",
    "ax4.set_title('2010s')\n",
    "\n",
    "ax1.set_xlabel('Day of Week')\n",
    "ax2.set_xlabel('Day of Week')\n",
    "ax3.set_xlabel('Day of Week')\n",
    "ax4.set_xlabel('Day of Week')"
   ]
  },
  {
   "cell_type": "code",
   "execution_count": null,
   "metadata": {},
   "outputs": [],
   "source": []
  },
  {
   "cell_type": "markdown",
   "metadata": {},
   "source": []
  }
 ],
 "metadata": {
  "kernelspec": {
   "display_name": "Python [conda env:learn-env] *",
   "language": "python",
   "name": "conda-env-learn-env-py"
  },
  "language_info": {
   "codemirror_mode": {
    "name": "ipython",
    "version": 3
   },
   "file_extension": ".py",
   "mimetype": "text/x-python",
   "name": "python",
   "nbconvert_exporter": "python",
   "pygments_lexer": "ipython3",
   "version": "3.6.9"
  }
 },
 "nbformat": 4,
 "nbformat_minor": 2
}
